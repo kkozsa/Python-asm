{
 "cells": [
  {
   "cell_type": "code",
   "execution_count": null,
   "id": "1627ce9d",
   "metadata": {},
   "outputs": [],
   "source": [
    "# Question 1. Answer true or false:\n",
    "#• type(1) == type(‘1’)                                  FALSE\n",
    "#• python program needs to be compiled before running    FALSE\n",
    "#• + operator works for integers, strings and lists.     TRUE\n",
    "#• 2+True==3                                             TRUE\n",
    "#• 1==True                                               TRUE"
   ]
  },
  {
   "cell_type": "code",
   "execution_count": null,
   "id": "992d4cad",
   "metadata": {},
   "outputs": [],
   "source": [
    "# Question 2. Create variables which take cost price and selling price for an item, \n",
    "# write a program to determine whether the seller has made profit or incurred loss. \n",
    "# Also determine how much profit he made or loss he incurred."
   ]
  },
  {
   "cell_type": "code",
   "execution_count": 2,
   "id": "34c60f7d",
   "metadata": {},
   "outputs": [
    {
     "name": "stdout",
     "output_type": "stream",
     "text": [
      "Enter cost price: 12\n",
      "Enter selling price: 15\n",
      "Your profit is:  3.0\n"
     ]
    }
   ],
   "source": [
    "cost_p = float (input (\"Enter cost price: \"))\n",
    "sell_p = float (input (\"Enter selling price: \"))\n",
    "if sell_p > cost_p:\n",
    "    print(\"Your profit is: \",sell_p-cost_p)\n",
    "elif sell_p == cost_p:\n",
    "    print(\"You don't make profit.\")\n",
    "else:\n",
    "    print(\"Your loss is:\", cost_p-sell_p ) "
   ]
  },
  {
   "cell_type": "code",
   "execution_count": 14,
   "id": "e7724323",
   "metadata": {},
   "outputs": [],
   "source": [
    "# Question 3. 1st Jan 2023 is a Sunday. Enter any year and determine what day is the 1st Jan of that year."
   ]
  },
  {
   "cell_type": "code",
   "execution_count": 2,
   "id": "3f0d6117",
   "metadata": {},
   "outputs": [
    {
     "name": "stdout",
     "output_type": "stream",
     "text": [
      "Enter year: 2022\n",
      "First Day of  2022  is  Saturday.\n"
     ]
    }
   ],
   "source": [
    "import datetime\n",
    "year = int (input(\"Enter year: \"))\n",
    "firstday = datetime.datetime(year, 1,1)\n",
    "print(\"First Day of \", year, \" is \", firstday.strftime(\"%A.\"))"
   ]
  },
  {
   "cell_type": "code",
   "execution_count": null,
   "id": "3fafd90f",
   "metadata": {},
   "outputs": [],
   "source": [
    "# Question 4. Find the absolute value of a number. (Absolute value of a number is a number without a positive or negative sign.)"
   ]
  },
  {
   "cell_type": "code",
   "execution_count": 21,
   "id": "e53c9c40",
   "metadata": {},
   "outputs": [
    {
     "name": "stdout",
     "output_type": "stream",
     "text": [
      "Enter a number: -5\n",
      "The absulute value of your number is:  5.0\n"
     ]
    }
   ],
   "source": [
    "num = float (input (\"Enter a number: \"))\n",
    "if num >= 0:\n",
    "    print(\"The absulute value of your number is: \", num)\n",
    "else:\n",
    "    print(\"The absulute value of your number is: \", num*-1)"
   ]
  },
  {
   "cell_type": "code",
   "execution_count": null,
   "id": "5b206728",
   "metadata": {},
   "outputs": [],
   "source": [
    "# Question 5. \n",
    "# • Using while loop, write a program to find the value of one number raised to the power of another number.\n",
    "# • Using exponentiation operator, write a program to find the value of one number raised to the power of \n",
    "#   another number and check your answer to the previous part."
   ]
  },
  {
   "cell_type": "code",
   "execution_count": 4,
   "id": "82738bcc",
   "metadata": {},
   "outputs": [
    {
     "name": "stdout",
     "output_type": "stream",
     "text": [
      "Enter base number: 2\n",
      "Enter exponent number: 3\n",
      "8.0\n"
     ]
    }
   ],
   "source": [
    "num1 = float (input(\"Enter base number: \"))\n",
    "num2 = float (input(\"Enter exponent number: \"))\n",
    "res = 1\n",
    "while num2 != 0:\n",
    "    res = res * num1\n",
    "    num2 = num2-1\n",
    "print (res)"
   ]
  },
  {
   "cell_type": "code",
   "execution_count": 4,
   "id": "4ea51de3",
   "metadata": {},
   "outputs": [],
   "source": [
    "# Question 6. Write a function to obtain the first 25 numbers of a Fibonacci sequence. \n",
    "# In a Fibonacci sequence the sum of two successive terms gives the third term. \n",
    "# Following are the first few terms of the Fibonacci sequence: 1 1 2 3 5 8 13 21 34 55 89..."
   ]
  },
  {
   "cell_type": "code",
   "execution_count": 17,
   "id": "b4cbd496",
   "metadata": {},
   "outputs": [
    {
     "name": "stdout",
     "output_type": "stream",
     "text": [
      "0\n",
      "1\n",
      "1\n",
      "2\n",
      "3\n",
      "5\n",
      "8\n",
      "13\n",
      "21\n",
      "34\n",
      "55\n",
      "89\n",
      "144\n",
      "233\n",
      "377\n",
      "610\n",
      "987\n",
      "1597\n",
      "2584\n",
      "4181\n",
      "6765\n",
      "10946\n",
      "17711\n",
      "28657\n",
      "46368\n"
     ]
    }
   ],
   "source": [
    "def fib(n):\n",
    "    a = 0\n",
    "    b = 1\n",
    "    print(a)\n",
    "    print(b)\n",
    "    \n",
    "    for i in range (2,n):\n",
    "        c =a + b\n",
    "        a = b\n",
    "        b = c\n",
    "        print(c)\n",
    "fib (25)"
   ]
  },
  {
   "cell_type": "code",
   "execution_count": null,
   "id": "2b7e9ff7",
   "metadata": {},
   "outputs": [],
   "source": [
    "# Question 7. Try different values in year variable and determine programmatically \n",
    "# if it is a leap year or not."
   ]
  },
  {
   "cell_type": "code",
   "execution_count": 28,
   "id": "a3fc686e",
   "metadata": {},
   "outputs": [
    {
     "name": "stdout",
     "output_type": "stream",
     "text": [
      "Enter year: 2008\n",
      "2008 is a leap year.\n"
     ]
    }
   ],
   "source": [
    "year = int (input (\"Enter year: \"))\n",
    "if year%4 == 0:\n",
    "    print(year, \"is a leap year.\") \n",
    "elif year%100 ==0:\n",
    "    print(year, \"is a leap year.\")\n",
    "elif year%400 ==0:\n",
    "    print(year, \"is a leap year.\")\n",
    "else:\n",
    "    print(year, \"is not a leap year.\")"
   ]
  },
  {
   "cell_type": "code",
   "execution_count": 23,
   "id": "fcf3851b",
   "metadata": {},
   "outputs": [],
   "source": [
    "# Question 8. Given the length and breadth of a rectangle, write a program to find \n",
    "# whether the area of the rectangle is greater than its perimeter."
   ]
  },
  {
   "cell_type": "code",
   "execution_count": 3,
   "id": "631ed30a",
   "metadata": {},
   "outputs": [
    {
     "name": "stdout",
     "output_type": "stream",
     "text": [
      "Enter length of the rectangle: 22\n",
      "Enter breadth of the rectangle: 2\n",
      "Area is:  44.0\n",
      "Perimeter is : 48.0\n",
      "Perimeter is greater than area\n"
     ]
    }
   ],
   "source": [
    "length = float (input (\"Enter length of the rectangle: \"))\n",
    "breadth = float (input (\"Enter breadth of the rectangle: \"))\n",
    "area = length*breadth\n",
    "perimeter = 2*length+2*breadth\n",
    "\n",
    "print (\"Area is: \", area)\n",
    "print (\"Perimeter is :\", perimeter)\n",
    "\n",
    "if area > perimeter:\n",
    "    print(\"Area is greater than perimeter\")\n",
    "else:\n",
    "    print(\"Perimeter is greater than area\") "
   ]
  },
  {
   "cell_type": "code",
   "execution_count": null,
   "id": "a755ed13",
   "metadata": {},
   "outputs": [],
   "source": [
    "# Question 9. Evaluate the expression 𝑎4+𝑏⁴/𝑐+𝑑\n",
    "# at a = 5, b = −3, c = 2, and d = −4."
   ]
  },
  {
   "cell_type": "code",
   "execution_count": 7,
   "id": "89296f33",
   "metadata": {},
   "outputs": [
    {
     "name": "stdout",
     "output_type": "stream",
     "text": [
      "-353.0\n"
     ]
    }
   ],
   "source": [
    "a = 5\n",
    "b = -3\n",
    "c = 2\n",
    "d = -4\n",
    "print (((a**4)+(b**4))/(c+d))"
   ]
  },
  {
   "cell_type": "code",
   "execution_count": null,
   "id": "265b7ecc",
   "metadata": {},
   "outputs": [],
   "source": [
    "# Question 10. Create variables for the ages of Person1, Person2 and Person3. \n",
    "# Write a program to determine the youngest of the three."
   ]
  },
  {
   "cell_type": "code",
   "execution_count": 7,
   "id": "3cbf532d",
   "metadata": {},
   "outputs": [
    {
     "name": "stdout",
     "output_type": "stream",
     "text": [
      "Enter age of first person: 25\n",
      "Enter age of second person: 35\n",
      "Enter age of third person: 18\n",
      "Third person is the youngest.\n"
     ]
    }
   ],
   "source": [
    "age1 = int (input (\"Enter age of first person: \"))\n",
    "age2 = int (input (\"Enter age of second person: \"))\n",
    "age3 = int (input (\"Enter age of third person: \"))\n",
    "\n",
    "if age1 < age2 and age1 < age3:\n",
    "    print (\"First person is the youngest.\")\n",
    "if age2 < age1 and age2 < age3: \n",
    "    print (\"Second person is the youngest.\")\n",
    "if age3 < age1 and age3 < age1:\n",
    "    print (\"Third person is the youngest.\")\n"
   ]
  },
  {
   "cell_type": "code",
   "execution_count": 6,
   "id": "59a96efd",
   "metadata": {},
   "outputs": [],
   "source": [
    "# Question 11. Write a program to add first seven terms of the following series using a for loop:\n",
    "# 1/2 + 2/3 + 3/4 + 4/5..."
   ]
  },
  {
   "cell_type": "code",
   "execution_count": 18,
   "id": "cc987cb6",
   "metadata": {},
   "outputs": [
    {
     "name": "stdout",
     "output_type": "stream",
     "text": [
      "0.5\n",
      "0.3333333333333333\n",
      "0.25\n",
      "0.2\n",
      "0.16666666666666666\n",
      "0.14285714285714285\n",
      "0.125\n",
      "The sum of the above series is:  1.7178571428571427\n"
     ]
    }
   ],
   "source": [
    "denominator = 2\n",
    "s = 0\n",
    "while denominator <= 8:\n",
    "    num = 1 / denominator\n",
    "    print(num)\n",
    "    s += num\n",
    "    denominator += 1\n",
    "print('The sum of the above series is: ', s)\n"
   ]
  },
  {
   "cell_type": "code",
   "execution_count": 10,
   "id": "1876648f",
   "metadata": {},
   "outputs": [],
   "source": [
    "# Question 12. Write a program to generate all combinations of 1, 2 and 3 using for loop."
   ]
  },
  {
   "cell_type": "code",
   "execution_count": 43,
   "id": "b03ac5f7",
   "metadata": {},
   "outputs": [
    {
     "name": "stdout",
     "output_type": "stream",
     "text": [
      "1 2 3\n",
      "1 3 2\n",
      "2 1 3\n",
      "2 3 1\n",
      "3 1 2\n",
      "3 2 1\n"
     ]
    }
   ],
   "source": [
    "a = 1\n",
    "b = 2\n",
    "c = 3\n",
    "d.append(a)\n",
    "d.append(b)\n",
    "d.append(c)\n",
    "for i in range(0,3):\n",
    "    for j in range(0,3):\n",
    "        for k in range(0,3):\n",
    "            if(i!=j&j!=k&k!=i):\n",
    "                print(d[i],d[j],d[k])"
   ]
  }
 ],
 "metadata": {
  "kernelspec": {
   "display_name": "Python 3 (ipykernel)",
   "language": "python",
   "name": "python3"
  },
  "language_info": {
   "codemirror_mode": {
    "name": "ipython",
    "version": 3
   },
   "file_extension": ".py",
   "mimetype": "text/x-python",
   "name": "python",
   "nbconvert_exporter": "python",
   "pygments_lexer": "ipython3",
   "version": "3.9.12"
  }
 },
 "nbformat": 4,
 "nbformat_minor": 5
}
